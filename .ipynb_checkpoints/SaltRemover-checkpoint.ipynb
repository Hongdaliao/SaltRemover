{
 "cells": [
  {
   "cell_type": "code",
   "execution_count": 1,
   "id": "3a1e53a1-ba2f-4c39-9903-f44f7c5486ac",
   "metadata": {
    "tags": []
   },
   "outputs": [],
   "source": [
    "import re\n",
    "from rdkit import Chem\n",
    "import pandas as pd"
   ]
  },
  {
   "cell_type": "code",
   "execution_count": 2,
   "id": "eefea158-01d1-4d0e-afbf-a5035810b0b6",
   "metadata": {
    "tags": []
   },
   "outputs": [],
   "source": [
    "def remove_salt(smiles):\n",
    "    # 创建一个化合物对象\n",
    "    mol = Chem.MolFromSmiles(smiles)\n",
    "    \n",
    "    # 获取化合物中的离子\n",
    "    ions = re.findall(r'\\[[^\\]]+\\]', smiles)\n",
    "    \n",
    "    # 从化合物中移除离子\n",
    "    for ion in ions:\n",
    "        mol = Chem.DeleteSubstructs(mol, Chem.MolFromSmiles(ion))\n",
    "        \n",
    "    # 将去除盐后的分子转换为SMILES格式\n",
    "    result = Chem.MolToSmiles(mol)\n",
    "    \n",
    "    return result"
   ]
  },
  {
   "cell_type": "code",
   "execution_count": 6,
   "id": "17df7b70-970a-47ba-967a-242296d2f945",
   "metadata": {
    "tags": []
   },
   "outputs": [
    {
     "name": "stdout",
     "output_type": "stream",
     "text": [
      "C=CC[N+]1(C2CC3C4CCC5CC(O)C(N6CCOCC6)CC5(C)C4CCC3(C)C2OC(C)=O)CCCC1\n"
     ]
    }
   ],
   "source": [
    "# 测试一个化合物\n",
    "smiles = \"C=CC[N+]1(C2CC3C4CCC5CC(O)C(N6CCOCC6)CC5(C)C4CCC3(C)C2OC(C)=O)CCCC1.[Br-]\"\n",
    "result = remove_salt(smiles)\n",
    "print(result)"
   ]
  },
  {
   "cell_type": "code",
   "execution_count": 4,
   "id": "b33c4939-4013-4cd5-b580-69a830644f55",
   "metadata": {},
   "outputs": [
    {
     "name": "stderr",
     "output_type": "stream",
     "text": [
      "[11:35:40] SMILES Parse Error: syntax error while parsing: C1=CN(C(=O)N=C1N)[[C@H]2C([[C@@H]([[C@H](O2)CO)O)(F)F\n",
      "[11:35:40] SMILES Parse Error: Failed parsing SMILES 'C1=CN(C(=O)N=C1N)[[C@H]2C([[C@@H]([[C@H](O2)CO)O)(F)F' for input: 'C1=CN(C(=O)N=C1N)[[C@H]2C([[C@@H]([[C@H](O2)CO)O)(F)F'\n",
      "[11:35:40] SMILES Parse Error: syntax error while parsing: [[C@H]\n",
      "[11:35:40] SMILES Parse Error: Failed parsing SMILES '[[C@H]' for input: '[[C@H]'\n"
     ]
    },
    {
     "ename": "ArgumentError",
     "evalue": "Python argument types in\n    rdkit.Chem.rdmolops.DeleteSubstructs(NoneType, NoneType)\ndid not match C++ signature:\n    DeleteSubstructs(class RDKit::ROMol mol, class RDKit::ROMol query, bool onlyFrags=False, bool useChirality=False)",
     "output_type": "error",
     "traceback": [
      "\u001b[1;31m---------------------------------------------------------------------------\u001b[0m",
      "\u001b[1;31mArgumentError\u001b[0m                             Traceback (most recent call last)",
      "Cell \u001b[1;32mIn[4], line 8\u001b[0m\n\u001b[0;32m      6\u001b[0m cleaned_smiles \u001b[38;5;241m=\u001b[39m []\n\u001b[0;32m      7\u001b[0m \u001b[38;5;28;01mfor\u001b[39;00m smiles \u001b[38;5;129;01min\u001b[39;00m smiles_list:\n\u001b[1;32m----> 8\u001b[0m     cleaned_smiles\u001b[38;5;241m.\u001b[39mappend(\u001b[43mremove_salt\u001b[49m\u001b[43m(\u001b[49m\u001b[43msmiles\u001b[49m\u001b[43m)\u001b[49m)\n\u001b[0;32m     10\u001b[0m \u001b[38;5;66;03m# 读取原始数据\u001b[39;00m\n\u001b[0;32m     11\u001b[0m data \u001b[38;5;241m=\u001b[39m pd\u001b[38;5;241m.\u001b[39mread_excel(\u001b[38;5;124m'\u001b[39m\u001b[38;5;124mTEST-SALTREMOVER.xlsx\u001b[39m\u001b[38;5;124m'\u001b[39m)\n",
      "Cell \u001b[1;32mIn[2], line 10\u001b[0m, in \u001b[0;36mremove_salt\u001b[1;34m(smiles)\u001b[0m\n\u001b[0;32m      8\u001b[0m \u001b[38;5;66;03m# 从化合物中移除离子\u001b[39;00m\n\u001b[0;32m      9\u001b[0m \u001b[38;5;28;01mfor\u001b[39;00m ion \u001b[38;5;129;01min\u001b[39;00m ions:\n\u001b[1;32m---> 10\u001b[0m     mol \u001b[38;5;241m=\u001b[39m \u001b[43mChem\u001b[49m\u001b[38;5;241;43m.\u001b[39;49m\u001b[43mDeleteSubstructs\u001b[49m\u001b[43m(\u001b[49m\u001b[43mmol\u001b[49m\u001b[43m,\u001b[49m\u001b[43m \u001b[49m\u001b[43mChem\u001b[49m\u001b[38;5;241;43m.\u001b[39;49m\u001b[43mMolFromSmiles\u001b[49m\u001b[43m(\u001b[49m\u001b[43mion\u001b[49m\u001b[43m)\u001b[49m\u001b[43m)\u001b[49m\n\u001b[0;32m     12\u001b[0m \u001b[38;5;66;03m# 将去除盐后的分子转换为SMILES格式\u001b[39;00m\n\u001b[0;32m     13\u001b[0m result \u001b[38;5;241m=\u001b[39m Chem\u001b[38;5;241m.\u001b[39mMolToSmiles(mol)\n",
      "\u001b[1;31mArgumentError\u001b[0m: Python argument types in\n    rdkit.Chem.rdmolops.DeleteSubstructs(NoneType, NoneType)\ndid not match C++ signature:\n    DeleteSubstructs(class RDKit::ROMol mol, class RDKit::ROMol query, bool onlyFrags=False, bool useChirality=False)"
     ]
    }
   ],
   "source": [
    "# 读取原始数据\n",
    "data = pd.read_excel('TEST-SALTREMOVER.xlsx')\n",
    "smiles_list = data['SMILES'].tolist()\n",
    "\n",
    "# 去除离子并保存结果\n",
    "cleaned_smiles = []\n",
    "for smiles in smiles_list:\n",
    "    cleaned_smiles.append(remove_salt(smiles))\n",
    "\n",
    "# 将去除离子后的 SMILES 保存到新文件中\n",
    "cleaned_data = pd.DataFrame({'SMILES': cleaned_smiles})\n",
    "cleaned_data.to_excel('cleaned_file.xlsx', index=False)"
   ]
  },
  {
   "cell_type": "code",
   "execution_count": null,
   "id": "e2531cbe-33be-42cb-bb3e-f11836be6e61",
   "metadata": {},
   "outputs": [],
   "source": []
  }
 ],
 "metadata": {
  "kernelspec": {
   "display_name": "Python 3 (ipykernel)",
   "language": "python",
   "name": "python3"
  },
  "language_info": {
   "codemirror_mode": {
    "name": "ipython",
    "version": 3
   },
   "file_extension": ".py",
   "mimetype": "text/x-python",
   "name": "python",
   "nbconvert_exporter": "python",
   "pygments_lexer": "ipython3",
   "version": "3.10.9"
  }
 },
 "nbformat": 4,
 "nbformat_minor": 5
}
