{
 "cells": [
  {
   "cell_type": "code",
   "execution_count": 1,
   "id": "3a1e53a1-ba2f-4c39-9903-f44f7c5486ac",
   "metadata": {
    "tags": []
   },
   "outputs": [],
   "source": [
    "import re\n",
    "from rdkit import Chem\n",
    "import pandas as pd\n",
    "from rdkit.Chem import SaltRemover"
   ]
  },
  {
   "cell_type": "code",
   "execution_count": 2,
   "id": "eefea158-01d1-4d0e-afbf-a5035810b0b6",
   "metadata": {
    "tags": []
   },
   "outputs": [],
   "source": [
    "def remove_salt(smiles):\n",
    "    # 创建一个化合物对象\n",
    "    mol = Chem.MolFromSmiles(smiles)\n",
    "    \n",
    "    # 获取化合物中的离子\n",
    "    ions = re.findall(r'\\[[^\\]]+\\]', smiles)\n",
    "    \n",
    "    # 从化合物中移除离子\n",
    "    for ion in ions:\n",
    "        mol = Chem.DeleteSubstructs(mol, Chem.MolFromSmiles(ion))\n",
    "        \n",
    "    # 将去除盐后的分子转换为SMILES格式\n",
    "    result = Chem.MolToSmiles(mol)\n",
    "    \n",
    "    return result"
   ]
  },
  {
   "cell_type": "code",
   "execution_count": 3,
   "id": "17df7b70-970a-47ba-967a-242296d2f945",
   "metadata": {
    "tags": []
   },
   "outputs": [
    {
     "name": "stdout",
     "output_type": "stream",
     "text": [
      "C=CC[N+]1(C2CC3C4CCC5CC(O)C(N6CCOCC6)CC5(C)C4CCC3(C)C2OC(C)=O)CCCC1\n"
     ]
    }
   ],
   "source": [
    "# 测试一个化合物\n",
    "smiles = \"C=CC[N+]1(C2CC3C4CCC5CC(O)C(N6CCOCC6)CC5(C)C4CCC3(C)C2OC(C)=O)CCCC1.[Br-]\"\n",
    "result = remove_salt(smiles)\n",
    "print(result)"
   ]
  },
  {
   "cell_type": "code",
   "execution_count": 4,
   "id": "b33c4939-4013-4cd5-b580-69a830644f55",
   "metadata": {},
   "outputs": [],
   "source": [
    "# 读取原始数据\n",
    "df = pd.read_excel('LC4200-FDA-Approved Drug Custom Library-to Xiaoying Xiao.xlsx')\n",
    "\n",
    "\n"
   ]
  },
  {
   "cell_type": "code",
   "execution_count": 5,
   "id": "18131479-3c57-4f46-8f6a-6d03e00c7518",
   "metadata": {
    "tags": []
   },
   "outputs": [
    {
     "name": "stdout",
     "output_type": "stream",
     "text": [
      "          Unnamed: 0 Unnamed: 1 Unnamed: 2 Unnamed: 3  \\\n",
      "0   Product Details:        NaN        NaN        NaN   \n",
      "1        Formulation        NaN        NaN        NaN   \n",
      "2          Container        NaN        NaN        NaN   \n",
      "3           Shipping        NaN        NaN        NaN   \n",
      "4            Storage        NaN        NaN        NaN   \n",
      "..               ...        ...        ...        ...   \n",
      "79               NaN        NaN        NaN        NaN   \n",
      "80                 m        NaN        NaN        NaN   \n",
      "81                 n        NaN        NaN        NaN   \n",
      "82                 o        NaN        NaN        NaN   \n",
      "83                 p        NaN        NaN        NaN   \n",
      "\n",
      "   FDA-Approved Drug Custom Library (384-well(240ul))\\nFor more information on TargetMol library service, please contact us via info@targetmol.com  \\\n",
      "0                                                 NaN                                                                                                \n",
      "1                                                 NaN                                                                                                \n",
      "2                                                 NaN                                                                                                \n",
      "3                                                 NaN                                                                                                \n",
      "4                                                 NaN                                                                                                \n",
      "..                                                ...                                                                                                \n",
      "79                                                NaN                                                                                                \n",
      "80                                              Empty                                                                                                \n",
      "81                                              Empty                                                                                                \n",
      "82                                              Empty                                                                                                \n",
      "83                                              Empty                                                                                                \n",
      "\n",
      "   Unnamed: 5                                        Unnamed: 6  \\\n",
      "0         NaN                                               NaN   \n",
      "1         NaN  A collection of  551 FDA-Approved Drug compounds   \n",
      "2         NaN               384 Well Format Sample Storage Tube   \n",
      "3         NaN                                           Dry ice   \n",
      "4         NaN                                    -20 ℃ or -80 ℃   \n",
      "..        ...                                               ...   \n",
      "79        NaN                                               NaN   \n",
      "80      Empty                                               NaN   \n",
      "81      Empty                                               NaN   \n",
      "82      Empty                                               NaN   \n",
      "83      Empty                                               NaN   \n",
      "\n",
      "               Unnamed: 7          Unnamed: 8   Unnamed: 9  ... Unnamed: 24  \\\n",
      "0                     NaN                 NaN          NaN  ...         NaN   \n",
      "1                     NaN                 NaN          NaN  ...         NaN   \n",
      "2                     NaN                 NaN          NaN  ...         NaN   \n",
      "3                     NaN                 NaN          NaN  ...         NaN   \n",
      "4                     NaN                 NaN          NaN  ...         NaN   \n",
      "..                    ...                 ...          ...  ...         ...   \n",
      "79  Amifostine trihydrate  Ibandronate sodium  L-Histidine  ...         NaN   \n",
      "80                  Empty               Empty        Empty  ...       Empty   \n",
      "81                  Empty               Empty        Empty  ...       Empty   \n",
      "82                  Empty               Empty        Empty  ...       Empty   \n",
      "83                  Empty               Empty        Empty  ...       Empty   \n",
      "\n",
      "   Unnamed: 25 Unnamed: 26 Unnamed: 27 Unnamed: 28  Unnamed: 29 Unnamed: 30  \\\n",
      "0          NaN         NaN         NaN         NaN          NaN         NaN   \n",
      "1          NaN         NaN         NaN         NaN          NaN         NaN   \n",
      "2          NaN         NaN         NaN         NaN          NaN         NaN   \n",
      "3          NaN         NaN         NaN         NaN          NaN         NaN   \n",
      "4          NaN         NaN         NaN         NaN          NaN         NaN   \n",
      "..         ...         ...         ...         ...          ...         ...   \n",
      "79         NaN         NaN         NaN         NaN          NaN         NaN   \n",
      "80       Empty       Empty       Empty       Empty        Empty       Empty   \n",
      "81       Empty       Empty       Empty       Empty        Empty       Empty   \n",
      "82       Empty       Empty       Empty       Empty        Empty       Empty   \n",
      "83       Empty       Empty       Empty       Empty        Empty       Empty   \n",
      "\n",
      "   Unnamed: 31  Unnamed: 32  Unnamed: 33  \n",
      "0          NaN          NaN          NaN  \n",
      "1          NaN          NaN          NaN  \n",
      "2          NaN          NaN          NaN  \n",
      "3          NaN          NaN          NaN  \n",
      "4          NaN          NaN          NaN  \n",
      "..         ...          ...          ...  \n",
      "79         NaN          NaN          NaN  \n",
      "80       Empty        Empty        Empty  \n",
      "81       Empty        Empty        Empty  \n",
      "82       Empty        Empty        Empty  \n",
      "83       Empty        Empty        Empty  \n",
      "\n",
      "[84 rows x 34 columns]\n"
     ]
    }
   ],
   "source": [
    "print(df)"
   ]
  },
  {
   "cell_type": "code",
   "execution_count": 6,
   "id": "e2531cbe-33be-42cb-bb3e-f11836be6e61",
   "metadata": {},
   "outputs": [
    {
     "ename": "NameError",
     "evalue": "name 'data' is not defined",
     "output_type": "error",
     "traceback": [
      "\u001b[1;31m---------------------------------------------------------------------------\u001b[0m",
      "\u001b[1;31mNameError\u001b[0m                                 Traceback (most recent call last)",
      "Cell \u001b[1;32mIn[6], line 1\u001b[0m\n\u001b[1;32m----> 1\u001b[0m smiles_list \u001b[38;5;241m=\u001b[39m \u001b[43mdata\u001b[49m[\u001b[38;5;124m'\u001b[39m\u001b[38;5;124mSMILES\u001b[39m\u001b[38;5;124m'\u001b[39m]\u001b[38;5;241m.\u001b[39mtolist()\n\u001b[0;32m      2\u001b[0m \u001b[38;5;66;03m# 去除离子并保存结果\u001b[39;00m\n\u001b[0;32m      3\u001b[0m cleaned_smiles \u001b[38;5;241m=\u001b[39m []\n",
      "\u001b[1;31mNameError\u001b[0m: name 'data' is not defined"
     ]
    }
   ],
   "source": [
    "smiles_list = data['SMILES'].tolist()\n",
    "# 去除离子并保存结果\n",
    "cleaned_smiles = []\n",
    "for smiles in smiles_list:\n",
    "    cleaned_smiles.append(remove_salt(smiles))\n",
    "\n",
    "# 将去除离子后的 SMILES 保存到新文件中\n",
    "cleaned_data = pd.DataFrame({'SMILES': cleaned_smiles})\n",
    "cleaned_data.to_excel('cleaned_file.xlsx', index=False)"
   ]
  }
 ],
 "metadata": {
  "kernelspec": {
   "display_name": "Python 3 (ipykernel)",
   "language": "python",
   "name": "python3"
  },
  "language_info": {
   "codemirror_mode": {
    "name": "ipython",
    "version": 3
   },
   "file_extension": ".py",
   "mimetype": "text/x-python",
   "name": "python",
   "nbconvert_exporter": "python",
   "pygments_lexer": "ipython3",
   "version": "3.10.9"
  }
 },
 "nbformat": 4,
 "nbformat_minor": 5
}
