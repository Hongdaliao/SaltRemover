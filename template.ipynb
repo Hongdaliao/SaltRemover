{
 "cells": [
  {
   "cell_type": "code",
   "execution_count": 1,
   "id": "b71a08ee-469c-4c21-8a32-4302e6dc4588",
   "metadata": {
    "tags": []
   },
   "outputs": [],
   "source": [
    "from rdkit.Chem import PandasTools\n",
    "import pandas as pd\n",
    "import numpy as np\n",
    "pd.options.display.max_columns = 30\n",
    "from rdkit import Chem\n",
    "from rdkit.Chem.SaltRemover import SaltRemover"
   ]
  },
  {
   "cell_type": "code",
   "execution_count": 2,
   "id": "fc88bbd7-c6f1-41ab-b394-972a2758c69b",
   "metadata": {},
   "outputs": [],
   "source": [
    "from rdkit.Chem import PandasTools\n",
    "\n",
    "# 加载 SDF 文件为 DataFrame\n",
    "df_sdf_384 = PandasTools.LoadSDF(\"output384.sdf\")\n",
    "\n",
    "# 保留前十行数据\n",
    "df_sdf = df_sdf_384.head(2)\n",
    "\n",
    "# 保存为 SDF 文件\n",
    "file_path = \"template_mce.sdf\"\n",
    "    \n",
    "PandasTools.WriteSDF(df_sdf, file_path, molColName=\"ROMol\", properties=list(df_sdf.columns))"
   ]
  },
  {
   "cell_type": "code",
   "execution_count": 3,
   "id": "b405b32a-5296-4e94-9821-d54af53ec8e3",
   "metadata": {},
   "outputs": [],
   "source": [
    "df = PandasTools.LoadSDF(\"template_mce.sdf\")"
   ]
  },
  {
   "cell_type": "code",
   "execution_count": 4,
   "id": "81637150-a2b0-4c6c-b53d-caa758070289",
   "metadata": {
    "tags": []
   },
   "outputs": [
    {
     "data": {
      "text/html": [
       "<div>\n",
       "<style scoped>\n",
       "    .dataframe tbody tr th:only-of-type {\n",
       "        vertical-align: middle;\n",
       "    }\n",
       "\n",
       "    .dataframe tbody tr th {\n",
       "        vertical-align: top;\n",
       "    }\n",
       "\n",
       "    .dataframe thead th {\n",
       "        text-align: right;\n",
       "    }\n",
       "</style>\n",
       "<table border=\"1\" class=\"dataframe\">\n",
       "  <thead>\n",
       "    <tr style=\"text-align: right;\">\n",
       "      <th></th>\n",
       "      <th>Custom_Parent_ID</th>\n",
       "      <th>Vendor_CN</th>\n",
       "      <th>Original_Plate</th>\n",
       "      <th>Row</th>\n",
       "      <th>Col</th>\n",
       "      <th>Salt_Status</th>\n",
       "      <th>MWONE</th>\n",
       "      <th>MWBASE</th>\n",
       "      <th>ID</th>\n",
       "      <th>New_Col</th>\n",
       "      <th>Original_Well</th>\n",
       "      <th>Vendor</th>\n",
       "      <th>Notes</th>\n",
       "      <th>Custom Category</th>\n",
       "      <th>ROMol</th>\n",
       "    </tr>\n",
       "  </thead>\n",
       "  <tbody>\n",
       "    <tr>\n",
       "      <th>0</th>\n",
       "      <td>STR-0620283</td>\n",
       "      <td>F0007-1171</td>\n",
       "      <td>PLATE 001</td>\n",
       "      <td>A</td>\n",
       "      <td>03</td>\n",
       "      <td>freebase</td>\n",
       "      <td>387,2</td>\n",
       "      <td>387,2</td>\n",
       "      <td></td>\n",
       "      <td>3</td>\n",
       "      <td>A3</td>\n",
       "      <td>MCE</td>\n",
       "      <td>Plate PLATE 001 A3</td>\n",
       "      <td>diversity</td>\n",
       "      <td style=\"text-align: center;\"><div style=\"width: 200px; height: 200px\" data-content=\"rdkit/molecule\"><img src=\"data:image/png;base64,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\" alt=\"Mol\"/></div></td>\n",
       "    </tr>\n",
       "    <tr>\n",
       "      <th>1</th>\n",
       "      <td>STR-0620284</td>\n",
       "      <td>F0447-0087</td>\n",
       "      <td>PLATE 001</td>\n",
       "      <td>B</td>\n",
       "      <td>03</td>\n",
       "      <td>freebase</td>\n",
       "      <td>324,4</td>\n",
       "      <td>324,4</td>\n",
       "      <td></td>\n",
       "      <td>3</td>\n",
       "      <td>B3</td>\n",
       "      <td>MCE</td>\n",
       "      <td>Plate PLATE 001 B3</td>\n",
       "      <td>diversity</td>\n",
       "      <td style=\"text-align: center;\"><div style=\"width: 200px; height: 200px\" data-content=\"rdkit/molecule\"><img src=\"data:image/png;base64,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\" alt=\"Mol\"/></div></td>\n",
       "    </tr>\n",
       "  </tbody>\n",
       "</table>\n",
       "</div>"
      ],
      "text/plain": [
       "  Custom_Parent_ID   Vendor_CN Original_Plate Row Col Salt_Status  MWONE  \\\n",
       "0      STR-0620283  F0007-1171      PLATE 001   A  03    freebase  387,2   \n",
       "1      STR-0620284  F0447-0087      PLATE 001   B  03    freebase  324,4   \n",
       "\n",
       "  MWBASE ID New_Col Original_Well Vendor               Notes Custom Category  \\\n",
       "0  387,2          3            A3    MCE  Plate PLATE 001 A3       diversity   \n",
       "1  324,4          3            B3    MCE  Plate PLATE 001 B3       diversity   \n",
       "\n",
       "                                               ROMol  \n",
       "0  <rdkit.Chem.rdchem.Mol object at 0x000001F3FF2...  \n",
       "1  <rdkit.Chem.rdchem.Mol object at 0x000001F3FF2...  "
      ]
     },
     "execution_count": 4,
     "metadata": {},
     "output_type": "execute_result"
    }
   ],
   "source": [
    "df"
   ]
  },
  {
   "cell_type": "code",
   "execution_count": null,
   "id": "fda61221-bc92-46c3-8c79-ce1d893d792a",
   "metadata": {},
   "outputs": [],
   "source": []
  }
 ],
 "metadata": {
  "kernelspec": {
   "display_name": "Python 3 (ipykernel)",
   "language": "python",
   "name": "python3"
  },
  "language_info": {
   "codemirror_mode": {
    "name": "ipython",
    "version": 3
   },
   "file_extension": ".py",
   "mimetype": "text/x-python",
   "name": "python",
   "nbconvert_exporter": "python",
   "pygments_lexer": "ipython3",
   "version": "3.10.9"
  }
 },
 "nbformat": 4,
 "nbformat_minor": 5
}
